{
 "cells": [
  {
   "cell_type": "code",
   "execution_count": null,
   "id": "00abf8df-c0d2-42e7-8b13-cfaee303de6e",
   "metadata": {},
   "outputs": [],
   "source": [
    "import pandas as pd \n",
    "import numpy as np \n",
    "import matplotlib.pyplot as plt \n",
    "import seaborn as sns \n",
    "%matplotlib inline "
   ]
  },
  {
   "cell_type": "code",
   "execution_count": null,
   "id": "15625754-46dc-4a22-90e2-68d75f9d6a84",
   "metadata": {},
   "outputs": [],
   "source": [
    "df = pd.read_csv(\"10-diamonds.csv\")"
   ]
  },
  {
   "cell_type": "code",
   "execution_count": null,
   "id": "8721c5ea-9f05-4ce3-9951-f9dcc90b785d",
   "metadata": {},
   "outputs": [],
   "source": [
    "df.head()"
   ]
  },
  {
   "cell_type": "code",
   "execution_count": null,
   "id": "e852962e-5958-430d-9a07-ffb47cd336e8",
   "metadata": {},
   "outputs": [],
   "source": [
    "df.shape"
   ]
  },
  {
   "cell_type": "code",
   "execution_count": null,
   "id": "df8c7311-0e64-4cd4-9ed7-ee50a7354280",
   "metadata": {},
   "outputs": [],
   "source": [
    "df.info()"
   ]
  },
  {
   "cell_type": "code",
   "execution_count": null,
   "id": "1e52530d-a3e0-47d3-ae3a-233f329f08ad",
   "metadata": {},
   "outputs": [],
   "source": [
    "df.isnull().sum()"
   ]
  },
  {
   "cell_type": "code",
   "execution_count": null,
   "id": "3b45806c-32a6-4be3-bf49-85cc2710ab55",
   "metadata": {},
   "outputs": [],
   "source": [
    "df = df.drop(\"Unnamed: 0\", axis  =1)"
   ]
  },
  {
   "cell_type": "code",
   "execution_count": null,
   "id": "aa3fe175-83c7-419e-856f-d6674f905784",
   "metadata": {},
   "outputs": [],
   "source": [
    "df.head()"
   ]
  },
  {
   "cell_type": "code",
   "execution_count": null,
   "id": "266d1823-e73e-4c84-bdca-264633ec6d95",
   "metadata": {},
   "outputs": [],
   "source": [
    "df.describe()"
   ]
  },
  {
   "cell_type": "code",
   "execution_count": null,
   "id": "c3cd9862-9b72-445d-888f-840f08bab0d1",
   "metadata": {},
   "outputs": [],
   "source": [
    "df[df[\"x\"]== 0]"
   ]
  },
  {
   "cell_type": "code",
   "execution_count": null,
   "id": "8d76ca68-3e78-4172-b58d-0c5ddd4be66a",
   "metadata": {},
   "outputs": [],
   "source": [
    "df[df[\"y\"]== 0]"
   ]
  },
  {
   "cell_type": "code",
   "execution_count": null,
   "id": "350676f7-13a1-47bb-9a7a-d5ba493b4cd1",
   "metadata": {},
   "outputs": [],
   "source": [
    "df[df[\"z\"]== 0]"
   ]
  },
  {
   "cell_type": "code",
   "execution_count": null,
   "id": "f9bd0888-cea2-4924-b1a7-e7cc5fb34ca3",
   "metadata": {},
   "outputs": [],
   "source": [
    "len(df[df[\"x\"]== 0]), len(df[df[\"y\"]== 0]), len(df[df[\"z\"]== 0])"
   ]
  },
  {
   "cell_type": "code",
   "execution_count": null,
   "id": "b84a7f42-b539-4053-9191-af1244a1cd5a",
   "metadata": {},
   "outputs": [],
   "source": [
    "df[df[\"z\"]== 0].index"
   ]
  },
  {
   "cell_type": "code",
   "execution_count": null,
   "id": "7d61b513-29cc-495a-adb4-7fa8c3033435",
   "metadata": {},
   "outputs": [],
   "source": [
    "df = df.drop(df[df[\"z\"]== 0].index)\n",
    "df = df.drop(df[df[\"y\"]== 0].index)\n",
    "df = df.drop(df[df[\"x\"]== 0].index)"
   ]
  },
  {
   "cell_type": "code",
   "execution_count": null,
   "id": "4b46fe28-b4cb-4e7a-8e16-f44b2ff7ce8e",
   "metadata": {},
   "outputs": [],
   "source": [
    "df.describe()"
   ]
  },
  {
   "cell_type": "code",
   "execution_count": null,
   "id": "3a78f121-3623-4b1a-8c0c-5b48749d5f59",
   "metadata": {},
   "outputs": [],
   "source": [
    "df.shape"
   ]
  },
  {
   "cell_type": "code",
   "execution_count": null,
   "id": "a6b11c34-ea03-49e7-b698-38dd651aa52d",
   "metadata": {},
   "outputs": [],
   "source": [
    "sns.pairplot(df)\n",
    "plt.show()"
   ]
  },
  {
   "cell_type": "code",
   "execution_count": null,
   "id": "b01f95d7-c95a-41f5-b65c-61c417e9cb30",
   "metadata": {},
   "outputs": [],
   "source": [
    "sns.scatterplot(x = df[\"x\"], y = df[\"price\"])\n",
    "plt.show()"
   ]
  },
  {
   "cell_type": "code",
   "execution_count": null,
   "id": "d9154a2a-14e2-4070-b7bd-5419adb668bf",
   "metadata": {},
   "outputs": [],
   "source": [
    "sns.scatterplot(x = df[\"y\"], y = df[\"price\"])\n",
    "plt.show()"
   ]
  },
  {
   "cell_type": "code",
   "execution_count": null,
   "id": "965de94d-abbc-4df5-b041-e23c29669d87",
   "metadata": {},
   "outputs": [],
   "source": [
    "sns.scatterplot(x = df[\"z\"], y = df[\"price\"])\n",
    "plt.show()"
   ]
  },
  {
   "cell_type": "code",
   "execution_count": null,
   "id": "261358b7-351c-45dc-956a-85237b2376df",
   "metadata": {},
   "outputs": [],
   "source": [
    "sns.scatterplot(x = df[\"table\"], y = df[\"price\"])\n",
    "plt.show()"
   ]
  },
  {
   "cell_type": "code",
   "execution_count": null,
   "id": "a0b66734-be27-48b2-956e-d53cb4ed8219",
   "metadata": {},
   "outputs": [],
   "source": [
    "sns.scatterplot(x = df[\"depth\"], y = df[\"price\"])\n",
    "plt.show()"
   ]
  },
  {
   "cell_type": "code",
   "execution_count": null,
   "id": "12f98223-732d-4e91-9e43-ee21502079b7",
   "metadata": {},
   "outputs": [],
   "source": [
    "df[(df[\"depth\"] < 75) & (df[\"depth\"] > 45)]"
   ]
  },
  {
   "cell_type": "code",
   "execution_count": null,
   "id": "f27feaa7-e153-45a4-b9af-90be9713917a",
   "metadata": {},
   "outputs": [],
   "source": [
    "len(df[(df[\"depth\"] < 75) & (df[\"depth\"] > 45)])"
   ]
  },
  {
   "cell_type": "code",
   "execution_count": null,
   "id": "8c9a3f98-291d-4d24-b0bc-7c58d4144636",
   "metadata": {},
   "outputs": [],
   "source": [
    "len(df[(df[\"table\"] < 75) & (df[\"table\"] > 40)])"
   ]
  },
  {
   "cell_type": "code",
   "execution_count": null,
   "id": "30451481-230d-4df6-8d52-e2771d58f41f",
   "metadata": {},
   "outputs": [],
   "source": [
    "len(df[(df[\"z\"] < 30) & (df[\"z\"] > 2)])"
   ]
  },
  {
   "cell_type": "code",
   "execution_count": null,
   "id": "9cef9bf8-96fc-41af-88cc-1ed279c69263",
   "metadata": {},
   "outputs": [],
   "source": [
    "len(df[(df[\"y\"] < 20)])"
   ]
  },
  {
   "cell_type": "code",
   "execution_count": null,
   "id": "ab6126b7-d7a4-430f-a295-e7db86190965",
   "metadata": {},
   "outputs": [],
   "source": [
    "df = df[(df[\"depth\"] < 75) & (df[\"depth\"] > 45)]\n",
    "df = df[(df[\"table\"] < 75) & (df[\"table\"] > 40)]\n",
    "df = df[(df[\"z\"] < 30) & (df[\"z\"] > 2)]\n",
    "df = df[(df[\"y\"] < 20)]"
   ]
  },
  {
   "cell_type": "code",
   "execution_count": null,
   "id": "66b76f3e-751b-4f04-9072-fea560c288b2",
   "metadata": {},
   "outputs": [],
   "source": [
    "df.describe()"
   ]
  },
  {
   "cell_type": "code",
   "execution_count": null,
   "id": "a7bf6f42-d7d4-4408-a474-b7cc9a93ef03",
   "metadata": {},
   "outputs": [],
   "source": [
    "sns.scatterplot(x = df[\"y\"], y = df[\"price\"])\n",
    "plt.show()"
   ]
  },
  {
   "cell_type": "code",
   "execution_count": null,
   "id": "42b94bd0-ea76-463e-a1e1-1f8c94f23b58",
   "metadata": {},
   "outputs": [],
   "source": [
    "sns.scatterplot(x = df[\"z\"], y = df[\"price\"])\n",
    "plt.show()"
   ]
  },
  {
   "cell_type": "code",
   "execution_count": null,
   "id": "23827580-1687-41b3-81fc-79f0156aea05",
   "metadata": {},
   "outputs": [],
   "source": [
    "df.head()"
   ]
  },
  {
   "cell_type": "code",
   "execution_count": null,
   "id": "9cc20f9d-025f-4314-a86a-1d36fc031322",
   "metadata": {},
   "outputs": [],
   "source": [
    "df[\"cut\"].unique()"
   ]
  },
  {
   "cell_type": "code",
   "execution_count": null,
   "id": "2263f704-62c0-4157-be21-1f29f463c194",
   "metadata": {},
   "outputs": [],
   "source": [
    "df[\"cut\"].value_counts()"
   ]
  },
  {
   "cell_type": "code",
   "execution_count": null,
   "id": "b65563bd-a6a8-4ba3-aa9e-5e7639a2a7e1",
   "metadata": {},
   "outputs": [],
   "source": [
    "df[\"color\"].value_counts()"
   ]
  },
  {
   "cell_type": "code",
   "execution_count": null,
   "id": "d5dc020c-b8a2-447c-ac4e-f7e01c10408a",
   "metadata": {},
   "outputs": [],
   "source": [
    "df[\"clarity\"].value_counts()"
   ]
  },
  {
   "cell_type": "code",
   "execution_count": null,
   "id": "65cab4bb-ec01-4f64-87c0-c96f8c4e74a9",
   "metadata": {},
   "outputs": [],
   "source": [
    "X = df.drop(\"price\", axis = 1)\n",
    "y = df[\"price\"]"
   ]
  },
  {
   "cell_type": "code",
   "execution_count": null,
   "id": "f5d425b8-39b6-41c1-bcd1-904cd7cb9f71",
   "metadata": {},
   "outputs": [],
   "source": [
    "from sklearn.model_selection import train_test_split\n",
    "X_train, X_test, y_train, y_test = train_test_split(X,y,test_size=0.25, random_state=15)"
   ]
  },
  {
   "cell_type": "code",
   "execution_count": null,
   "id": "cc22eb65-6f5e-4d54-8497-e94ad36107ab",
   "metadata": {},
   "outputs": [],
   "source": [
    "from sklearn.preprocessing import LabelEncoder \n",
    "label_encoder = LabelEncoder()"
   ]
  },
  {
   "cell_type": "code",
   "execution_count": null,
   "id": "b66dc539-6ecb-48a6-85c4-0e270e91bfe5",
   "metadata": {},
   "outputs": [],
   "source": [
    "for col in [\"cut\", \"color\", \"clarity\"]: \n",
    "    X_train[col] = label_encoder.fit_transform(X_train[col])\n",
    "    X_test[col] = label_encoder.transform(X_test[col])"
   ]
  },
  {
   "cell_type": "code",
   "execution_count": null,
   "id": "545e97f5-a8b3-4adb-ad82-1f0f0251fff5",
   "metadata": {},
   "outputs": [],
   "source": [
    "X_train.head()"
   ]
  },
  {
   "cell_type": "code",
   "execution_count": null,
   "id": "0e86bf0f-de60-481a-ad9c-7ff5a0ffc1df",
   "metadata": {},
   "outputs": [],
   "source": [
    "X_train[\"cut\"].value_counts()"
   ]
  },
  {
   "cell_type": "code",
   "execution_count": null,
   "id": "a27a7f56-1ff8-4a85-9757-59ea6e49cd14",
   "metadata": {},
   "outputs": [],
   "source": [
    "X_train.info()"
   ]
  },
  {
   "cell_type": "code",
   "execution_count": null,
   "id": "461110c4-9460-4aee-bd6f-3b76b46664d7",
   "metadata": {},
   "outputs": [],
   "source": [
    "from sklearn.preprocessing import StandardScaler\n",
    "scaler = StandardScaler()"
   ]
  },
  {
   "cell_type": "code",
   "execution_count": null,
   "id": "f8d549de-e516-4cb8-812b-47aa747806d5",
   "metadata": {},
   "outputs": [],
   "source": [
    "X_train_scaled = scaler.fit_transform(X_train)\n",
    "X_test_scaled = scaler.transform(X_test)"
   ]
  },
  {
   "cell_type": "code",
   "execution_count": null,
   "id": "cdeb1b64-5bc0-4ba8-bef0-657fa0389c40",
   "metadata": {},
   "outputs": [],
   "source": [
    "from sklearn.linear_model import LinearRegression \n",
    "from sklearn.metrics import mean_absolute_error, mean_squared_error, r2_score "
   ]
  },
  {
   "cell_type": "code",
   "execution_count": null,
   "id": "8dfd2463-3b72-40a5-bc62-7a36e77974b0",
   "metadata": {},
   "outputs": [],
   "source": [
    "linear = LinearRegression()\n",
    "linear.fit(X_train_scaled, y_train) \n",
    "y_pred = linear.predict(X_test_scaled)\n",
    "mae = mean_absolute_error(y_test, y_pred)\n",
    "mse = mean_squared_error(y_test, y_pred)\n",
    "score = r2_score(y_test, y_pred)\n",
    "print(\"Mean absolute error: \", mae)\n",
    "print(\"Mean squared error: \", mse)\n",
    "print(\"R2 Score: \", score)\n",
    "plt.scatter(y_test, y_pred)\n",
    "plt.show()"
   ]
  },
  {
   "cell_type": "code",
   "execution_count": null,
   "id": "98c2a197-9f19-46c2-a5e7-3b8ce8f052c9",
   "metadata": {},
   "outputs": [],
   "source": [
    "from sklearn.svm import SVR "
   ]
  },
  {
   "cell_type": "code",
   "execution_count": null,
   "id": "c5cad04c-d763-4df3-86a4-81c1d81e6bef",
   "metadata": {},
   "outputs": [],
   "source": [
    "svr = SVR()\n",
    "svr.fit(X_train_scaled, y_train) \n",
    "y_pred = svr.predict(X_test_scaled)\n",
    "mae = mean_absolute_error(y_test, y_pred)\n",
    "mse = mean_squared_error(y_test, y_pred)\n",
    "score = r2_score(y_test, y_pred)\n",
    "print(\"Mean absolute error: \", mae)\n",
    "print(\"Mean squared error: \", mse)\n",
    "print(\"R2 Score: \", score)\n",
    "plt.scatter(y_test, y_pred)\n",
    "plt.show()"
   ]
  },
  {
   "cell_type": "code",
   "execution_count": null,
   "id": "ca724202-b60d-4b42-a7d8-135393f6923b",
   "metadata": {},
   "outputs": [],
   "source": [
    "# grid search "
   ]
  },
  {
   "cell_type": "code",
   "execution_count": null,
   "id": "22c40d6e-2734-48af-89a9-fe4a8e1b1e71",
   "metadata": {},
   "outputs": [],
   "source": [
    "from sklearn.model_selection import GridSearchCV "
   ]
  },
  {
   "cell_type": "code",
   "execution_count": null,
   "id": "55c616a6-774b-4aa2-94e7-9ef3bd0d61a4",
   "metadata": {},
   "outputs": [],
   "source": [
    "param_grid = {\n",
    "    \"C\": [100,1000], \n",
    "    \"gamma\": [\"scale\", \"auto\"], \n",
    "    \"kernel\" : [\"rbf\", \"linear\"]\n",
    "}\n",
    "grid = GridSearchCV(estimator = SVR(), param_grid=param_grid, n_jobs=-1)"
   ]
  },
  {
   "cell_type": "code",
   "execution_count": null,
   "id": "a6292a32-259c-4704-a9a4-d96afe815cfd",
   "metadata": {},
   "outputs": [],
   "source": [
    "grid.fit(X_train_scaled, y_train)"
   ]
  },
  {
   "cell_type": "code",
   "execution_count": null,
   "id": "7346a8fc-2dda-4720-9542-8338542913c8",
   "metadata": {},
   "outputs": [],
   "source": [
    "y_pred = grid.predict(X_test_scaled)\n",
    "mae = mean_absolute_error(y_test, y_pred)\n",
    "mse = mean_squared_error(y_test, y_pred)\n",
    "score = r2_score(y_test, y_pred)\n",
    "print(\"Mean absolute error: \", mae)\n",
    "print(\"Mean squared error: \", mse)\n",
    "print(\"R2 Score: \", score)\n",
    "plt.scatter(y_test, y_pred)\n",
    "plt.show()"
   ]
  },
  {
   "cell_type": "code",
   "execution_count": null,
   "id": "639f1eb2-28ff-41b8-868b-2ed6d00f5a03",
   "metadata": {},
   "outputs": [],
   "source": [
    "grid.best_params_"
   ]
  },
  {
   "cell_type": "code",
   "execution_count": null,
   "id": "fe19b1b9-191a-4879-8c7c-4499e66708a3",
   "metadata": {},
   "outputs": [],
   "source": []
  }
 ],
 "metadata": {
  "kernelspec": {
   "display_name": "Python 3 (ipykernel)",
   "language": "python",
   "name": "python3"
  },
  "language_info": {
   "codemirror_mode": {
    "name": "ipython",
    "version": 3
   },
   "file_extension": ".py",
   "mimetype": "text/x-python",
   "name": "python",
   "nbconvert_exporter": "python",
   "pygments_lexer": "ipython3",
   "version": "3.13.5"
  }
 },
 "nbformat": 4,
 "nbformat_minor": 5
}
